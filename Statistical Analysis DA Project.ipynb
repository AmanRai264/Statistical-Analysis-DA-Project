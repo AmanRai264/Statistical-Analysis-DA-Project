{
 "cells": [
  {
   "cell_type": "markdown",
   "id": "c6b497d6-c65f-4526-bdef-d46022ea56e3",
   "metadata": {},
   "source": [
    "# Cleaning the Data"
   ]
  },
  {
   "cell_type": "code",
   "execution_count": 1,
   "id": "d133af79-9843-4d61-9634-e782fbcae795",
   "metadata": {},
   "outputs": [],
   "source": [
    "import pandas as pd\n",
    "import numpy as np\n",
    "import seaborn as sns\n",
    "import matplotlib as mlt"
   ]
  },
  {
   "cell_type": "code",
   "execution_count": 2,
   "id": "9dacc7a4-6b4c-4433-a8ef-994893ae5354",
   "metadata": {},
   "outputs": [],
   "source": [
    "df = pd.read_csv(\"train.csv\")"
   ]
  },
  {
   "cell_type": "code",
   "execution_count": 3,
   "id": "2af51325-c604-4e5d-af9c-a87bd1173977",
   "metadata": {},
   "outputs": [
    {
     "data": {
      "text/html": [
       "<div>\n",
       "<style scoped>\n",
       "    .dataframe tbody tr th:only-of-type {\n",
       "        vertical-align: middle;\n",
       "    }\n",
       "\n",
       "    .dataframe tbody tr th {\n",
       "        vertical-align: top;\n",
       "    }\n",
       "\n",
       "    .dataframe thead th {\n",
       "        text-align: right;\n",
       "    }\n",
       "</style>\n",
       "<table border=\"1\" class=\"dataframe\">\n",
       "  <thead>\n",
       "    <tr style=\"text-align: right;\">\n",
       "      <th></th>\n",
       "      <th>PassengerId</th>\n",
       "      <th>Survived</th>\n",
       "      <th>Pclass</th>\n",
       "      <th>Name</th>\n",
       "      <th>Sex</th>\n",
       "      <th>Age</th>\n",
       "      <th>SibSp</th>\n",
       "      <th>Parch</th>\n",
       "      <th>Ticket</th>\n",
       "      <th>Fare</th>\n",
       "      <th>Cabin</th>\n",
       "      <th>Embarked</th>\n",
       "    </tr>\n",
       "  </thead>\n",
       "  <tbody>\n",
       "    <tr>\n",
       "      <th>0</th>\n",
       "      <td>1</td>\n",
       "      <td>0</td>\n",
       "      <td>3</td>\n",
       "      <td>Braund, Mr. Owen Harris</td>\n",
       "      <td>male</td>\n",
       "      <td>22.0</td>\n",
       "      <td>1</td>\n",
       "      <td>0</td>\n",
       "      <td>A/5 21171</td>\n",
       "      <td>7.2500</td>\n",
       "      <td>NaN</td>\n",
       "      <td>S</td>\n",
       "    </tr>\n",
       "    <tr>\n",
       "      <th>1</th>\n",
       "      <td>2</td>\n",
       "      <td>1</td>\n",
       "      <td>1</td>\n",
       "      <td>Cumings, Mrs. John Bradley (Florence Briggs Th...</td>\n",
       "      <td>female</td>\n",
       "      <td>38.0</td>\n",
       "      <td>1</td>\n",
       "      <td>0</td>\n",
       "      <td>PC 17599</td>\n",
       "      <td>71.2833</td>\n",
       "      <td>C85</td>\n",
       "      <td>C</td>\n",
       "    </tr>\n",
       "    <tr>\n",
       "      <th>2</th>\n",
       "      <td>3</td>\n",
       "      <td>1</td>\n",
       "      <td>3</td>\n",
       "      <td>Heikkinen, Miss. Laina</td>\n",
       "      <td>female</td>\n",
       "      <td>26.0</td>\n",
       "      <td>0</td>\n",
       "      <td>0</td>\n",
       "      <td>STON/O2. 3101282</td>\n",
       "      <td>7.9250</td>\n",
       "      <td>NaN</td>\n",
       "      <td>S</td>\n",
       "    </tr>\n",
       "  </tbody>\n",
       "</table>\n",
       "</div>"
      ],
      "text/plain": [
       "   PassengerId  Survived  Pclass  \\\n",
       "0            1         0       3   \n",
       "1            2         1       1   \n",
       "2            3         1       3   \n",
       "\n",
       "                                                Name     Sex   Age  SibSp  \\\n",
       "0                            Braund, Mr. Owen Harris    male  22.0      1   \n",
       "1  Cumings, Mrs. John Bradley (Florence Briggs Th...  female  38.0      1   \n",
       "2                             Heikkinen, Miss. Laina  female  26.0      0   \n",
       "\n",
       "   Parch            Ticket     Fare Cabin Embarked  \n",
       "0      0         A/5 21171   7.2500   NaN        S  \n",
       "1      0          PC 17599  71.2833   C85        C  \n",
       "2      0  STON/O2. 3101282   7.9250   NaN        S  "
      ]
     },
     "execution_count": 3,
     "metadata": {},
     "output_type": "execute_result"
    }
   ],
   "source": [
    "df.head(3)"
   ]
  },
  {
   "cell_type": "code",
   "execution_count": 4,
   "id": "63bcab11-8c23-44bf-9677-d63eafbd6d12",
   "metadata": {},
   "outputs": [
    {
     "name": "stdout",
     "output_type": "stream",
     "text": [
      "<class 'pandas.core.frame.DataFrame'>\n",
      "RangeIndex: 891 entries, 0 to 890\n",
      "Data columns (total 12 columns):\n",
      " #   Column       Non-Null Count  Dtype  \n",
      "---  ------       --------------  -----  \n",
      " 0   PassengerId  891 non-null    int64  \n",
      " 1   Survived     891 non-null    int64  \n",
      " 2   Pclass       891 non-null    int64  \n",
      " 3   Name         891 non-null    object \n",
      " 4   Sex          891 non-null    object \n",
      " 5   Age          714 non-null    float64\n",
      " 6   SibSp        891 non-null    int64  \n",
      " 7   Parch        891 non-null    int64  \n",
      " 8   Ticket       891 non-null    object \n",
      " 9   Fare         891 non-null    float64\n",
      " 10  Cabin        204 non-null    object \n",
      " 11  Embarked     889 non-null    object \n",
      "dtypes: float64(2), int64(5), object(5)\n",
      "memory usage: 83.7+ KB\n"
     ]
    }
   ],
   "source": [
    "df.info()"
   ]
  },
  {
   "cell_type": "code",
   "execution_count": 5,
   "id": "cac38858-9876-44d2-98a3-76694abb18fa",
   "metadata": {},
   "outputs": [
    {
     "data": {
      "text/plain": [
       "PassengerId      0\n",
       "Survived         0\n",
       "Pclass           0\n",
       "Name             0\n",
       "Sex              0\n",
       "Age            177\n",
       "SibSp            0\n",
       "Parch            0\n",
       "Ticket           0\n",
       "Fare             0\n",
       "Cabin          687\n",
       "Embarked         2\n",
       "dtype: int64"
      ]
     },
     "execution_count": 5,
     "metadata": {},
     "output_type": "execute_result"
    }
   ],
   "source": [
    "df.isnull().sum()"
   ]
  },
  {
   "cell_type": "code",
   "execution_count": 6,
   "id": "55f7f9f5-8fbd-407b-8189-35d338437995",
   "metadata": {},
   "outputs": [],
   "source": [
    "# Ensure the Age column is not completely NaN\n",
    "if df['Age'].notna().sum() > 0:\n",
    "    df['Age'] = df['Age'].fillna(df['Age'].median())\n",
    "else:\n",
    "    print(\"All values in 'Age' are NaN. Using a default value (e.g., 0).\")\n",
    "    df['Age'] = df['Age'].fillna(0)  # Or use any reasonable default value\n"
   ]
  },
  {
   "cell_type": "code",
   "execution_count": 7,
   "id": "ed180ce8-dd80-4cda-a658-67b9f3535935",
   "metadata": {},
   "outputs": [
    {
     "data": {
      "text/plain": [
       "dtype('float64')"
      ]
     },
     "execution_count": 7,
     "metadata": {},
     "output_type": "execute_result"
    }
   ],
   "source": [
    "df['Age'].dtype"
   ]
  },
  {
   "cell_type": "code",
   "execution_count": 8,
   "id": "4a003252-527e-4c20-9dbb-f82e820749d0",
   "metadata": {},
   "outputs": [
    {
     "name": "stdout",
     "output_type": "stream",
     "text": [
      "0    22.0\n",
      "1    38.0\n",
      "2    26.0\n",
      "3    35.0\n",
      "4    35.0\n",
      "Name: Age, dtype: float64\n",
      "0\n",
      "float64\n"
     ]
    }
   ],
   "source": [
    "print(df['Age'].head())  # Check the first few values\n",
    "print(df['Age'].isna().sum())  # Count the number of NaN values\n",
    "print(df['Age'].dtype)  # Check the data type of the column\n"
   ]
  },
  {
   "cell_type": "code",
   "execution_count": 9,
   "id": "23ad8dd0-58f3-4190-af59-5c2d357bdad6",
   "metadata": {},
   "outputs": [
    {
     "name": "stdout",
     "output_type": "stream",
     "text": [
      "[22.   38.   26.   35.   28.   54.    2.   27.   14.    4.   58.   20.\n",
      " 39.   55.   31.   34.   15.    8.   19.   40.   66.   42.   21.   18.\n",
      "  3.    7.   49.   29.   65.   28.5   5.   11.   45.   17.   32.   16.\n",
      " 25.    0.83 30.   33.   23.   24.   46.   59.   71.   37.   47.   14.5\n",
      " 70.5  32.5  12.    9.   36.5  51.   55.5  40.5  44.    1.   61.   56.\n",
      " 50.   36.   45.5  20.5  62.   41.   52.   63.   23.5   0.92 43.   60.\n",
      " 10.   64.   13.   48.    0.75 53.   57.   80.   70.   24.5   6.    0.67\n",
      " 30.5   0.42 34.5  74.  ]\n"
     ]
    }
   ],
   "source": [
    "print(df['Age'].unique())  # Check unique values in the column\n"
   ]
  },
  {
   "cell_type": "code",
   "execution_count": 10,
   "id": "6fce7f7b-2da0-4906-8a6a-a3cd5f8bcf7e",
   "metadata": {},
   "outputs": [],
   "source": [
    "df['Age'] = pd.to_numeric(df['Age'], errors='coerce')  # Converts non-numeric values to NaN\n"
   ]
  },
  {
   "cell_type": "code",
   "execution_count": 11,
   "id": "a0d18483-13b8-406b-96d7-c03c8fdf4fd2",
   "metadata": {},
   "outputs": [],
   "source": [
    "if df['Age'].notna().sum() > 0:\n",
    "    df['Age'] = df['Age'].fillna(df['Age'].median())\n",
    "else:\n",
    "    print(\"All values in 'Age' are NaN. Using a default value (e.g., 0).\")\n",
    "    df['Age'] = df['Age'].fillna(0)  # Replace NaN with a default value\n"
   ]
  },
  {
   "cell_type": "code",
   "execution_count": null,
   "id": "7d05620f-8c7c-4bce-8662-2206f688c04e",
   "metadata": {},
   "outputs": [],
   "source": []
  },
  {
   "cell_type": "code",
   "execution_count": 12,
   "id": "139d4b06-9747-42b1-ab18-2635d458fa01",
   "metadata": {},
   "outputs": [
    {
     "data": {
      "text/plain": [
       "np.int64(0)"
      ]
     },
     "execution_count": 12,
     "metadata": {},
     "output_type": "execute_result"
    }
   ],
   "source": [
    "df['Age'].isnull().sum()"
   ]
  },
  {
   "cell_type": "code",
   "execution_count": 13,
   "id": "3fa7023d-4866-413a-ae8c-15ed6e9ca019",
   "metadata": {},
   "outputs": [
    {
     "data": {
      "text/plain": [
       "PassengerId      0\n",
       "Survived         0\n",
       "Pclass           0\n",
       "Name             0\n",
       "Sex              0\n",
       "Age              0\n",
       "SibSp            0\n",
       "Parch            0\n",
       "Ticket           0\n",
       "Fare             0\n",
       "Cabin          687\n",
       "Embarked         2\n",
       "dtype: int64"
      ]
     },
     "execution_count": 13,
     "metadata": {},
     "output_type": "execute_result"
    }
   ],
   "source": [
    "df.isnull().sum()"
   ]
  },
  {
   "cell_type": "code",
   "execution_count": 14,
   "id": "206de62f-2cd9-4f2c-8a5e-bad1843d4a2a",
   "metadata": {},
   "outputs": [],
   "source": [
    "df['Embarked'] = df['Embarked'].fillna(df['Embarked'].mode()[0])"
   ]
  },
  {
   "cell_type": "code",
   "execution_count": 15,
   "id": "57ca6cb9-76e1-4a52-89cc-858057788798",
   "metadata": {},
   "outputs": [
    {
     "data": {
      "text/plain": [
       "np.int64(0)"
      ]
     },
     "execution_count": 15,
     "metadata": {},
     "output_type": "execute_result"
    }
   ],
   "source": [
    "df['Embarked'].isnull().sum()"
   ]
  },
  {
   "cell_type": "code",
   "execution_count": 16,
   "id": "e63335b2-8444-4895-acdc-0e798c2c9748",
   "metadata": {},
   "outputs": [],
   "source": [
    "df.drop(columns = ['Cabin'], inplace= True)"
   ]
  },
  {
   "cell_type": "code",
   "execution_count": 17,
   "id": "191b7897-bbdb-4248-ac5e-3a43505fd4cb",
   "metadata": {},
   "outputs": [
    {
     "data": {
      "text/plain": [
       "PassengerId    0\n",
       "Survived       0\n",
       "Pclass         0\n",
       "Name           0\n",
       "Sex            0\n",
       "Age            0\n",
       "SibSp          0\n",
       "Parch          0\n",
       "Ticket         0\n",
       "Fare           0\n",
       "Embarked       0\n",
       "dtype: int64"
      ]
     },
     "execution_count": 17,
     "metadata": {},
     "output_type": "execute_result"
    }
   ],
   "source": [
    "df.isnull().sum()"
   ]
  },
  {
   "cell_type": "code",
   "execution_count": 26,
   "id": "a29302ea-64b5-494f-b38e-6ea4434ff414",
   "metadata": {},
   "outputs": [
    {
     "data": {
      "text/plain": [
       "(891,)"
      ]
     },
     "execution_count": 26,
     "metadata": {},
     "output_type": "execute_result"
    }
   ],
   "source": [
    " unique_value = df['PassengerId'].unique()\n",
    "unique_value.shape"
   ]
  },
  {
   "cell_type": "code",
   "execution_count": null,
   "id": "fb169b3f-b43e-4c9b-8dde-bedb52dcb2e9",
   "metadata": {},
   "outputs": [],
   "source": [
    "\n",
    "# Assuming df is your DataFrame\n",
    "df['TicketPrefix'] = df['Ticket'].str.extract(r'([A-Za-z./]+)', expand=False)  # Extract prefix\n",
    "df['TicketNumber'] = df['Ticket'].str.extract(r'(\\d+)', expand=False)          # Extract numeric part\n",
    "\n",
    "# Fill missing prefixes with 'None' (if numeric tickets have no prefix)\n",
    "df['TicketPrefix'] = df['TicketPrefix'].fillna('None')\n",
    "\n",
    "# Display cleaned columns\n",
    "print(df[['Ticket', 'TicketPrefix', 'TicketNumber']])\n"
   ]
  },
  {
   "cell_type": "markdown",
   "id": "646ef0d7-ee09-48d9-8c92-c534ac798bd3",
   "metadata": {},
   "source": [
    "# Performing Descriptive Statistics"
   ]
  },
  {
   "cell_type": "code",
   "execution_count": null,
   "id": "5080b690-f3ba-4cdf-8bb7-0716e893ffa6",
   "metadata": {},
   "outputs": [],
   "source": [
    "df.describe()"
   ]
  },
  {
   "cell_type": "code",
   "execution_count": null,
   "id": "afb09d50-491a-417c-8cca-519003087b53",
   "metadata": {
    "scrolled": true
   },
   "outputs": [],
   "source": [
    "df.groupby('Sex')['Survived'].mean()"
   ]
  },
  {
   "cell_type": "code",
   "execution_count": null,
   "id": "4312abe4-3fbf-481e-9222-89374bab5cb7",
   "metadata": {},
   "outputs": [],
   "source": [
    "class_survival = df.groupby('Pclass')['Survived'].mean()\n",
    "print(class_survival)"
   ]
  },
  {
   "cell_type": "code",
   "execution_count": null,
   "id": "66688e4c-de36-4e6d-92ae-113a806a8791",
   "metadata": {},
   "outputs": [],
   "source": [
    "# Plot a histogram of ages for survivors and non-survivors\n",
    "import matplotlib.pyplot as plt\n",
    "sns.histplot(df[df['Survived'] == 1]['Age'], bins=20, kde=True, color='green', label='Survived')\n",
    "sns.histplot(df[df['Survived'] == 0]['Age'], bins=20, kde=True, color='red', label='Not Survived')\n",
    "plt.xlabel('Age')\n",
    "plt.ylabel('Count')\n",
    "plt.title('Age Distribution: Survivors vs Non-Survivors')\n",
    "plt.legend()\n",
    "plt.show()\n",
    "\n",
    "# Compare the average age of survivors and non-survivors\n",
    "avg_age_survived = df[df['Survived'] == 1]['Age'].mean()\n",
    "avg_age_not_survived = df[df['Survived'] == 0]['Age'].mean()\n",
    "\n",
    "print(f\"Average Age of Survivors: {avg_age_survived:.2f}\")\n",
    "print(f\"Average Age of Non-Survivors: {avg_age_not_survived:.2f}\")\n"
   ]
  },
  {
   "cell_type": "code",
   "execution_count": null,
   "id": "8efe262a-b78d-46f2-9c10-0af14bcb8fd5",
   "metadata": {},
   "outputs": [],
   "source": [
    "print(df['Embarked'].value_counts())\n",
    "sns.countplot(x='Embarked', hue='Survived', data=df)\n",
    "plt.title('Survival by Embarkation Port')\n",
    "plt.show()\n"
   ]
  },
  {
   "cell_type": "code",
   "execution_count": null,
   "id": "f795e725-7b89-4323-86ad-a3dbdbfa8c05",
   "metadata": {},
   "outputs": [],
   "source": [
    "survival_by_class_and_sex = df.groupby(['Pclass', 'Sex'])['Survived'].mean()\n",
    "print(survival_by_class_and_sex)\n",
    "\n",
    "sns.barplot(x='Pclass', y='Survived', hue='Sex', data=df)\n",
    "plt.title('Survival by Class and Gender')\n",
    "plt.show()"
   ]
  },
  {
   "cell_type": "markdown",
   "id": "41a41561-8b97-4bc5-b6e8-1c6395c74899",
   "metadata": {},
   "source": [
    "# Predictive Analysis"
   ]
  },
  {
   "cell_type": "code",
   "execution_count": 1,
   "id": "0df7cd7d-7596-4012-8bfa-4ebcb16c5fac",
   "metadata": {},
   "outputs": [
    {
     "name": "stdout",
     "output_type": "stream",
     "text": [
      "Accuracy: 0.7552447552447552\n",
      "              precision    recall  f1-score   support\n",
      "\n",
      "           0       0.81      0.78      0.80        87\n",
      "           1       0.68      0.71      0.70        56\n",
      "\n",
      "    accuracy                           0.76       143\n",
      "   macro avg       0.74      0.75      0.75       143\n",
      "weighted avg       0.76      0.76      0.76       143\n",
      "\n"
     ]
    }
   ],
   "source": [
    "import pandas as pd\n",
    "from sklearn.model_selection import train_test_split\n",
    "from sklearn.linear_model import LogisticRegression\n",
    "from sklearn.metrics import accuracy_score, classification_report\n",
    "\n",
    "# Load Titanic dataset\n",
    "df = pd.read_csv(\"train.csv\")\n",
    "\n",
    "# Select relevant features and preprocess\n",
    "df = df[['Pclass', 'Sex', 'Age', 'Fare', 'Survived']].dropna()\n",
    "df['Sex'] = df['Sex'].map({'male': 0, 'female': 1})  # Convert categorical to numerical\n",
    "\n",
    "# Split dataset\n",
    "X = df[['Pclass', 'Sex', 'Age', 'Fare']]\n",
    "y = df['Survived']\n",
    "X_train, X_test, y_train, y_test = train_test_split(X, y, test_size=0.2, random_state=42)\n",
    "\n",
    "# Train Logistic Regression model\n",
    "model = LogisticRegression()\n",
    "model.fit(X_train, y_train)\n",
    "\n",
    "# Predictions\n",
    "y_pred = model.predict(X_test)\n",
    "\n",
    "# Evaluate\n",
    "print(\"Accuracy:\", accuracy_score(y_test, y_pred))\n",
    "print(classification_report(y_test, y_pred))\n"
   ]
  },
  {
   "cell_type": "code",
   "execution_count": null,
   "id": "e6c4a3fd-c6fc-42c3-a1b4-faa5cfdb84a4",
   "metadata": {},
   "outputs": [],
   "source": []
  }
 ],
 "metadata": {
  "kernelspec": {
   "display_name": "Python 3 (ipykernel)",
   "language": "python",
   "name": "python3"
  },
  "language_info": {
   "codemirror_mode": {
    "name": "ipython",
    "version": 3
   },
   "file_extension": ".py",
   "mimetype": "text/x-python",
   "name": "python",
   "nbconvert_exporter": "python",
   "pygments_lexer": "ipython3",
   "version": "3.11.6"
  }
 },
 "nbformat": 4,
 "nbformat_minor": 5
}
